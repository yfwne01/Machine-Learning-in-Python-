{
 "cells": [
  {
   "cell_type": "code",
   "execution_count": 41,
   "metadata": {},
   "outputs": [],
   "source": [
    "#Load packages\n",
    "import numpy as np\n",
    "import pandas as pd\n",
    "from matplotlib import pyplot as plt\n",
    "from math import sqrt\n",
    "from numpy.linalg import inv"
   ]
  },
  {
   "cell_type": "code",
   "execution_count": 42,
   "metadata": {},
   "outputs": [],
   "source": [
    "#z_score normalization functions"
   ]
  },
  {
   "cell_type": "code",
   "execution_count": 43,
   "metadata": {},
   "outputs": [],
   "source": [
    "def normal_train_data(DF):\n",
    "    Mean = np.mean(DF,axis = 0)\n",
    "    STD = np.std(DF,axis = 0)\n",
    "    stdDF = (DF-Mean)/STD\n",
    "    stdDF['x0']= 1 \n",
    "    cols = stdDF.columns.tolist()\n",
    "    cols = cols[-1:] + cols[:-1]\n",
    "    stdDF = stdDF[cols]\n",
    "    return stdDF"
   ]
  },
  {
   "cell_type": "code",
   "execution_count": 44,
   "metadata": {},
   "outputs": [],
   "source": [
    "def normal_test_data(trainDF,testDF):\n",
    "    Mean = np.mean(trainDF,axis = 0)\n",
    "    STD = np.std(trainDF,axis = 0)\n",
    "    stdDF = (testDF-Mean)/STD\n",
    "    stdDF['x0']= 1 \n",
    "    cols = stdDF.columns.tolist()\n",
    "    cols = cols[-1:] + cols[:-1]\n",
    "    stdDF = stdDF[cols]\n",
    "    return stdDF"
   ]
  },
  {
   "cell_type": "code",
   "execution_count": null,
   "metadata": {},
   "outputs": [],
   "source": []
  },
  {
   "cell_type": "code",
   "execution_count": 9,
   "metadata": {},
   "outputs": [],
   "source": [
    "# dataset 1"
   ]
  },
  {
   "cell_type": "code",
   "execution_count": 10,
   "metadata": {},
   "outputs": [],
   "source": [
    "#housing data\n",
    "house = pd.read_csv('housing.csv')\n",
    "\n",
    "#Split the data and get the training and testing data \n",
    "train=house.sample(frac=0.8,random_state=500) \n",
    "test=house.drop(train.index)\n",
    "\n",
    "#normalize the dataset \n",
    "normal_train = normal_train_data(train)\n",
    "normal_test = normal_test_data(train,test)\n",
    "\n",
    "#get the x features and y \n",
    "x_house_train = np.array(normal_train.drop(['Y'], axis=1))\n",
    "y_house_train = np.array(normal_train[['Y']])\n",
    "\n",
    "x_house_test = np.array(normal_test.drop(['Y'], axis=1))\n",
    "y_house_test = np.array(normal_test[['Y']])"
   ]
  },
  {
   "cell_type": "code",
   "execution_count": null,
   "metadata": {},
   "outputs": [],
   "source": []
  },
  {
   "cell_type": "code",
   "execution_count": 4,
   "metadata": {},
   "outputs": [],
   "source": [
    "#dataset 2"
   ]
  },
  {
   "cell_type": "code",
   "execution_count": 45,
   "metadata": {
    "scrolled": true
   },
   "outputs": [],
   "source": [
    "#yacht data\n",
    "yacht = pd.read_csv('yachtData.csv')\n",
    "\n",
    "#Split the data and get the training and testing data \n",
    "train=yacht.sample(frac=0.8,random_state=500) \n",
    "test=yacht.drop(train.index)\n",
    "\n",
    "#normalize the dataset \n",
    "normal_train = normal_train_data(train)\n",
    "normal_test = normal_test_data(train,test)\n",
    "\n",
    "\n",
    "#get the x features and y \n",
    "x_ya_train = np.array(normal_train.drop(['Y'], axis=1))\n",
    "y_ya_train = np.array(normal_train[['Y']])\n",
    "\n",
    "x_ya_test = np.array(normal_test.drop(['Y'], axis=1))\n",
    "y_ya_test = np.array(normal_test[['Y']])\n",
    "\n"
   ]
  },
  {
   "cell_type": "code",
   "execution_count": null,
   "metadata": {},
   "outputs": [],
   "source": []
  },
  {
   "cell_type": "code",
   "execution_count": null,
   "metadata": {},
   "outputs": [],
   "source": [
    "#dataset 3"
   ]
  },
  {
   "cell_type": "code",
   "execution_count": 16,
   "metadata": {},
   "outputs": [],
   "source": [
    "# concrete data\n",
    "concrete = pd.read_csv('concreteData.csv')\n",
    "\n",
    "#Split the data and get the training and testing data \n",
    "train=concrete.sample(frac=0.8,random_state=200) \n",
    "test=concrete.drop(train.index)\n",
    "\n",
    "#normalize the dataset \n",
    "normal_train = normal_train_data(train)\n",
    "normal_test = normal_test_data(train,test)\n",
    "\n",
    "#get the x features and y \n",
    "x_con_train = np.array(normal_train.drop(['Y'], axis=1))\n",
    "y_con_train = np.array(normal_train[['Y']])\n",
    "\n",
    "x_con_test = np.array(normal_test.drop(['Y'], axis=1))\n",
    "y_con_test = np.array(normal_test[['Y']])"
   ]
  },
  {
   "cell_type": "code",
   "execution_count": null,
   "metadata": {},
   "outputs": [],
   "source": []
  },
  {
   "cell_type": "code",
   "execution_count": null,
   "metadata": {},
   "outputs": [],
   "source": []
  },
  {
   "cell_type": "code",
   "execution_count": 50,
   "metadata": {},
   "outputs": [],
   "source": [
    "# implement the GD\n",
    "\n",
    "# cost function\n",
    "def rmse_cost_func(y_hat,y):\n",
    "    return np.sqrt(np.mean((y_hat-y)**2))\n",
    "\n",
    "def gradient_of_cost(x,y,w):\n",
    "    preds = predict(x,w)\n",
    "    error = preds-y\n",
    "    error_term = (1/len(x))*np.matmul(x.T,error)\n",
    "    return error_term\n",
    "\n",
    "def predict(x,w):\n",
    "    return np.matmul(x,w)\n",
    "\n",
    "# find a target linear model using gradient descent\n",
    "\n",
    "def find_linear_regression_model(x,y):\n",
    "    max_epochs = 50000\n",
    "    alpha = 0.01 # learning rate\n",
    "    tolerance = 0.01\n",
    "    w= np.zeros(x.shape[1]).reshape(-1,1)\n",
    "    loss_f = []\n",
    "    n_epochs = 0\n",
    "    \n",
    "    while (n_epochs < max_epochs):\n",
    "        \n",
    "            n_epochs = n_epochs +1\n",
    "            y_hat = predict(x,w)\n",
    "            loss = rmse_cost_func(y_hat,y)\n",
    "            loss_f.append(loss)\n",
    "            diff = 1\n",
    "        \n",
    "            if (n_epochs > 2):\n",
    "                prev = n_epochs -2\n",
    "                curr = n_epochs -1\n",
    "                diff = (loss_f[prev]-loss_f[curr])\n",
    "            \n",
    "            if (abs(diff) < tolerance):\n",
    "                print ('converged')\n",
    "                break\n",
    "        \n",
    "            else:\n",
    "                grad = gradient_of_cost(x,y,w)\n",
    "                next_w = w - alpha*grad\n",
    "                w = next_w\n",
    "            \n",
    "    print (\"Epoch: %d\" %(n_epochs))        \n",
    "    return w"
   ]
  },
  {
   "cell_type": "code",
   "execution_count": null,
   "metadata": {},
   "outputs": [],
   "source": []
  },
  {
   "cell_type": "code",
   "execution_count": 40,
   "metadata": {
    "scrolled": true
   },
   "outputs": [
    {
     "name": "stdout",
     "output_type": "stream",
     "text": [
      "converged\n",
      "Epoch: 3\n",
      "train_rmse: 0.947213\n",
      "test_rmse: 0.768052\n"
     ]
    }
   ],
   "source": [
    "#train the model of dataset 1: housing\n",
    "w = find_linear_regression_model(x_house_train, y_house_train)\n",
    "\n",
    "# prediction\n",
    "y_hat_train = predict(x_house_train,w)\n",
    "#cost of training\n",
    "train_rmse = rmse_cost_func(y_hat_train,y_house_train)\n",
    "\n",
    "# prediction\n",
    "y_hat_test = predict(x_house_test,w)\n",
    "#cost of test\n",
    "test_rmse = rmse_cost_func(y_hat_test,y_house_test)\n",
    "\n",
    "print('train_rmse: {0:.6f}'.format(train_rmse))\n",
    "print('test_rmse: {0:.6f}'.format(test_rmse))\n"
   ]
  },
  {
   "cell_type": "code",
   "execution_count": null,
   "metadata": {},
   "outputs": [],
   "source": []
  },
  {
   "cell_type": "code",
   "execution_count": 51,
   "metadata": {},
   "outputs": [
    {
     "name": "stdout",
     "output_type": "stream",
     "text": [
      "converged\n",
      "Epoch: 3\n",
      "train_rmse: 0.986832\n",
      "test_rmse: 0.873236\n"
     ]
    }
   ],
   "source": [
    "#train the model of dataset 2: yacht\n",
    "w = find_linear_regression_model(x_ya_train, y_ya_train)\n",
    "\n",
    "# prediction\n",
    "y_hat_train = predict(x_ya_train,w)\n",
    "#cost of training\n",
    "train_rmse = rmse_cost_func(y_hat_train,y_ya_train)\n",
    "\n",
    "# prediction\n",
    "y_hat_test = predict(x_ya_test,w)\n",
    "#cost of test\n",
    "test_rmse = rmse_cost_func(y_hat_test,y_ya_test)\n",
    "\n",
    "print('train_rmse: {0:.6f}'.format(train_rmse))\n",
    "print('test_rmse: {0:.6f}'.format(test_rmse))\n",
    "\n",
    "\n"
   ]
  },
  {
   "cell_type": "code",
   "execution_count": null,
   "metadata": {},
   "outputs": [],
   "source": []
  },
  {
   "cell_type": "code",
   "execution_count": 34,
   "metadata": {},
   "outputs": [
    {
     "name": "stdout",
     "output_type": "stream",
     "text": [
      "converged\n",
      "Epoch: 27\n",
      "train_rmse: 0.637311\n",
      "test_rmse: 0.691116\n"
     ]
    }
   ],
   "source": [
    "#train the model of dataset 3: concrete\n",
    "w = find_linear_regression_model(x_con_train, y_con_train)\n",
    "\n",
    "# prediction\n",
    "y_hat_train = predict(x_con_train,w)\n",
    "#cost of training\n",
    "train_rmse = rmse_cost_func(y_hat_train,y_con_train)\n",
    "\n",
    "# prediction\n",
    "y_hat_test = predict(x_con_test,w)\n",
    "#cost of test\n",
    "test_rmse = rmse_cost_func(y_hat_test,y_con_test)\n",
    "\n",
    "print('train_rmse: {0:.6f}'.format(train_rmse))\n",
    "print('test_rmse: {0:.6f}'.format(test_rmse))"
   ]
  },
  {
   "cell_type": "code",
   "execution_count": null,
   "metadata": {},
   "outputs": [],
   "source": []
  },
  {
   "cell_type": "code",
   "execution_count": null,
   "metadata": {},
   "outputs": [],
   "source": []
  },
  {
   "cell_type": "code",
   "execution_count": 30,
   "metadata": {},
   "outputs": [],
   "source": [
    "#dataset 1\n",
    "normal_house = normal_train_data(house)\n",
    "x_house = np.array(normal_house.drop(['Y'], axis=1))\n",
    "y_house = np.array(normal_house[['Y']])"
   ]
  },
  {
   "cell_type": "code",
   "execution_count": null,
   "metadata": {},
   "outputs": [],
   "source": []
  },
  {
   "cell_type": "code",
   "execution_count": 52,
   "metadata": {},
   "outputs": [],
   "source": [
    "#dataset 2\n",
    "normal_yacht = normal_train_data(yacht)\n",
    "x_ya = np.array(normal_yacht.drop(['Y'], axis=1))\n",
    "y_ya = np.array(normal_yacht[['Y']])"
   ]
  },
  {
   "cell_type": "code",
   "execution_count": 27,
   "metadata": {},
   "outputs": [],
   "source": [
    "#dataset 3\n",
    "normal_concrete = normal_train_data(concrete)\n",
    "x_con = np.array(normal_concrete.drop(['Y'], axis=1))\n",
    "y_con = np.array(normal_concrete[['Y']])"
   ]
  },
  {
   "cell_type": "code",
   "execution_count": null,
   "metadata": {},
   "outputs": [],
   "source": []
  },
  {
   "cell_type": "code",
   "execution_count": 53,
   "metadata": {},
   "outputs": [],
   "source": [
    "# find a target model using least square lost function ( normal equation)\n",
    "# cost function\n",
    "def rmse_cost_func(y_hat,y):\n",
    "    return np.sqrt(np.mean((y_hat-y)**2))\n",
    "\n",
    "def predict(x,w):\n",
    "    return np.matmul(x,w)\n",
    "\n",
    "def NE_linear_regression_model(x,y):\n",
    "    first = np.linalg.inv(np.dot(x.T, x))\n",
    "    second = np.dot(x.T, y)\n",
    "    w = np.dot(first,second)\n",
    "    \n",
    "    return w\n",
    "    \n",
    "\n",
    "    "
   ]
  },
  {
   "cell_type": "code",
   "execution_count": 32,
   "metadata": {},
   "outputs": [
    {
     "name": "stdout",
     "output_type": "stream",
     "text": [
      "NormalEquation_rmse: 0.509272\n"
     ]
    }
   ],
   "source": [
    "#dataset 1\n",
    "#train the model \n",
    "w = NE_linear_regression_model(x_house, y_house)\n",
    "\n",
    "# prediction\n",
    "y_hat = predict(x_house,w)\n",
    "#cost\n",
    "rmse = rmse_cost_func(y_hat,y_house)\n",
    "\n",
    "print('NormalEquation_rmse: {0:.6f}'.format(rmse))"
   ]
  },
  {
   "cell_type": "code",
   "execution_count": null,
   "metadata": {},
   "outputs": [],
   "source": []
  },
  {
   "cell_type": "code",
   "execution_count": 54,
   "metadata": {},
   "outputs": [
    {
     "name": "stdout",
     "output_type": "stream",
     "text": [
      "NormalEquation_rmse: 0.585180\n"
     ]
    }
   ],
   "source": [
    "#dataset 2\n",
    "#train the model \n",
    "w = NE_linear_regression_model(x_ya, y_ya)\n",
    "\n",
    "# prediction\n",
    "y_hat = predict(x_ya,w)\n",
    "#cost\n",
    "rmse = rmse_cost_func(y_hat,y_ya)\n",
    "\n",
    "print('NormalEquation_rmse: {0:.6f}'.format(rmse))"
   ]
  },
  {
   "cell_type": "code",
   "execution_count": null,
   "metadata": {},
   "outputs": [],
   "source": []
  },
  {
   "cell_type": "code",
   "execution_count": 29,
   "metadata": {},
   "outputs": [
    {
     "name": "stdout",
     "output_type": "stream",
     "text": [
      "NormalEquation_rmse: 0.620065\n"
     ]
    }
   ],
   "source": [
    "#dataset 3\n",
    "#train the model \n",
    "w = NE_linear_regression_model(x_con, y_con)\n",
    "\n",
    "# prediction\n",
    "y_hat = predict(x_con,w)\n",
    "#cost\n",
    "rmse = rmse_cost_func(y_hat,y_con)\n",
    "\n",
    "print('NormalEquation_rmse: {0:.6f}'.format(rmse))"
   ]
  },
  {
   "cell_type": "code",
   "execution_count": null,
   "metadata": {},
   "outputs": [],
   "source": []
  },
  {
   "cell_type": "code",
   "execution_count": null,
   "metadata": {},
   "outputs": [],
   "source": []
  }
 ],
 "metadata": {
  "kernelspec": {
   "display_name": "Python 3",
   "language": "python",
   "name": "python3"
  },
  "language_info": {
   "codemirror_mode": {
    "name": "ipython",
    "version": 3
   },
   "file_extension": ".py",
   "mimetype": "text/x-python",
   "name": "python",
   "nbconvert_exporter": "python",
   "pygments_lexer": "ipython3",
   "version": "3.8.5"
  }
 },
 "nbformat": 4,
 "nbformat_minor": 4
}
